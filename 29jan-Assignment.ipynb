{
 "cells": [
  {
   "cell_type": "code",
   "execution_count": 1,
   "id": "fa8477ad-a410-4dd7-b1f7-acc58d1bf396",
   "metadata": {},
   "outputs": [
    {
     "ename": "SyntaxError",
     "evalue": "invalid syntax (3667810366.py, line 1)",
     "output_type": "error",
     "traceback": [
      "\u001b[0;36m  Cell \u001b[0;32mIn[1], line 1\u001b[0;36m\u001b[0m\n\u001b[0;31m    Q.1:Answer-Guido van rossum\u001b[0m\n\u001b[0m     ^\u001b[0m\n\u001b[0;31mSyntaxError\u001b[0m\u001b[0;31m:\u001b[0m invalid syntax\n"
     ]
    }
   ],
   "source": [
    "Q.1:Answer-Guido van rossum\n",
    "Q.2:Answer-Object oriented and Structured programming\n",
    "Q.3:Answer-Yes \n",
    "Q.4:Answer- .py extension \n",
    "Q.5:Answer-Yes\n",
    "Q.7:Answer- '#' is used to give single line comment \n",
    "Q.8:Answer- sys. version \n",
    "Q.9:Answer- Lambda\n",
    "Q.10:Answer-Preffered installer program\n",
    "Q.11:Answer- insert,pop,append etc.\n",
    "Q.12:Answer-79 characters \n",
    "Q.13:Answer- 1.Easy to learn and use \n",
    "             2.Many python libraries and framework \n",
    "             3.Efficiency,Reliability,Speed etc.\n",
    "Q.14:Answer-Memory managed by the heap data structures \n",
    "Q.15:Answer- Step-1:Install python from any web browser\n",
    "             Step-2:Press the window button \n",
    "             Step-3:Go to This pc\n",
    "             Step-4:Select properties\n",
    "             Step-5:Click on Advanced system setting\n",
    "             Step-6:Select the advanced tab\n",
    "             Step-7:Select environment variable\n",
    "             Step-8:Select user variable\n",
    "             Step-9:Call path\n",
    "             Step-10:Copy path\n",
    "             Step-11:Press ok\n",
    "Q.16:Answer- Yes,Identation is very important in python"
   ]
  },
  {
   "cell_type": "code",
   "execution_count": 9,
   "id": "cedaf15c-1e53-4f09-82d8-d78c25e5e4de",
   "metadata": {},
   "outputs": [
    {
     "name": "stdin",
     "output_type": "stream",
     "text": [
      " 100\n"
     ]
    },
    {
     "name": "stdout",
     "output_type": "stream",
     "text": [
      "you are at the 1st rank\n"
     ]
    }
   ],
   "source": [
    "# Q.6:Answer-\n",
    "Number = int(input())\n",
    "if Number == 100:\n",
    "    print('you are at the 1st rank')\n",
    "else :\n",
    "    print('You are not at the 1st rank')"
   ]
  }
 ],
 "metadata": {
  "kernelspec": {
   "display_name": "Python 3 (ipykernel)",
   "language": "python",
   "name": "python3"
  },
  "language_info": {
   "codemirror_mode": {
    "name": "ipython",
    "version": 3
   },
   "file_extension": ".py",
   "mimetype": "text/x-python",
   "name": "python",
   "nbconvert_exporter": "python",
   "pygments_lexer": "ipython3",
   "version": "3.10.8"
  }
 },
 "nbformat": 4,
 "nbformat_minor": 5
}
